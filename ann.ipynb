{
 "cells": [
  {
   "cell_type": "markdown",
   "metadata": {},
   "source": [
    "# This is a simple ANN which predicts if a customer will leave the bank or not."
   ]
  },
  {
   "cell_type": "markdown",
   "metadata": {},
   "source": [
    "## Data loading\n",
    "We will use Pandas to load the data in csv"
   ]
  },
  {
   "cell_type": "code",
   "execution_count": 1,
   "metadata": {
    "collapsed": true
   },
   "outputs": [],
   "source": [
    "import pandas as pd\n",
    "dataset = pd.read_csv(\"data.csv\")\n",
    "\n",
    "#We are taking only the independent variables which impact the dependent variable (i.e. if the customer leaves the banks)\n",
    "X = dataset.iloc[:,3:13].values\n",
    "\n",
    "y = dataset.iloc[:,13].values"
   ]
  },
  {
   "cell_type": "markdown",
   "metadata": {},
   "source": [
    "## Encoding\n",
    "Now, we need to encode categorical data, as in mathematical equations we need to use only numerical values.\n",
    "We encode all the independent variables which are non numeric.\n",
    "In our current case, we need to encode ```Geography``` and ```Gender```"
   ]
  },
  {
   "cell_type": "code",
   "execution_count": 3,
   "metadata": {
    "collapsed": true
   },
   "outputs": [],
   "source": [
    "# Encoding categorical values\n",
    "from sklearn.preprocessing import LabelEncoder, OneHotEncoder\n",
    "labelencoder_X_1 = LabelEncoder()\n",
    "X[:,1]= labelencoder_X_1.fit_transform(X[:,1])\n",
    "labelencoder_X_2 = LabelEncoder()\n",
    "X[:,2]= labelencoder_X_2.fit_transform(X[:,2])\n"
   ]
  },
  {
   "cell_type": "markdown",
   "metadata": {},
   "source": [
    "We need to include dummy variables to avoid un-necessary preference to any encoded value as all the variables are of same importance."
   ]
  },
  {
   "cell_type": "code",
   "execution_count": 4,
   "metadata": {
    "collapsed": true
   },
   "outputs": [],
   "source": [
    "onehotencoder = OneHotEncoder(categorical_features=[1])\n",
    "X = onehotencoder.fit_transform(X).toarray()"
   ]
  },
  {
   "cell_type": "markdown",
   "metadata": {},
   "source": [
    "### Avoid dummy variable trap\n",
    "We need to avoid dummy variable trap. More info on dummy variable trap is [here](http://www.algosome.com/articles/dummy-variable-trap-regression.html)"
   ]
  },
  {
   "cell_type": "code",
   "execution_count": 5,
   "metadata": {
    "collapsed": true
   },
   "outputs": [],
   "source": [
    "#Done to avoid Dummy variable trap. Reducing dummy variable by one\n",
    "X = X[:,1:]"
   ]
  },
  {
   "cell_type": "markdown",
   "metadata": {},
   "source": [
    "## Data split\n",
    "Splitting the data in training and test set"
   ]
  },
  {
   "cell_type": "code",
   "execution_count": 6,
   "metadata": {
    "collapsed": true
   },
   "outputs": [],
   "source": [
    "#Splitting the dataset into the training and test set\n",
    "from sklearn.model_selection import train_test_split\n",
    "X_train, X_test, y_train,y_test = train_test_split(X,y,test_size=0.2,random_state=0)\n"
   ]
  },
  {
   "cell_type": "markdown",
   "metadata": {},
   "source": [
    "## Feature Scaling\n",
    "Feature scaling is done to avoid dominance of one independent variable on others.\n",
    "We need to fit and transform the training dataset.\n",
    "But test dataset is only transformmed."
   ]
  },
  {
   "cell_type": "code",
   "execution_count": 7,
   "metadata": {
    "collapsed": true
   },
   "outputs": [],
   "source": [
    "from sklearn.preprocessing import StandardScaler\n",
    "sc=StandardScaler()\n",
    "X_train = sc.fit_transform(X_train)\n",
    "X_test = sc.transform(X_test)"
   ]
  },
  {
   "cell_type": "markdown",
   "metadata": {},
   "source": [
    "## Artificial Neural Network\n",
    "Now we will create ANN with following approach\n",
    "- Randomly initialise the weights to small numbers close to 0 (but not 0)\n",
    "- Input the first observation of your dataset in the input layer, each feature in one input node.\n",
    "- Forward-Propagation from left to right, the neurons are activated in a way that the impact of each neuron's activation is limited by the weights. Propagate the activations until getting the predicted result y.\n",
    "- Compare the predicted result to the actual result. Measure the generated error.\n",
    "- Back-Progpagation: from right to left, the error is back-propagated so that the weights are updated accordingly.\n",
    "- Repeat Steps 1-5 till whole data set is exhausted."
   ]
  },
  {
   "cell_type": "code",
   "execution_count": 9,
   "metadata": {},
   "outputs": [
    {
     "name": "stdout",
     "output_type": "stream",
     "text": [
      "Epoch 1/100\n",
      "8000/8000 [==============================] - 2s - loss: 0.4904 - acc: 0.7954     \n",
      "Epoch 2/100\n",
      "8000/8000 [==============================] - 2s - loss: 0.4357 - acc: 0.7960     \n",
      "Epoch 3/100\n",
      "8000/8000 [==============================] - 2s - loss: 0.4333 - acc: 0.7960     \n",
      "Epoch 4/100\n",
      "8000/8000 [==============================] - 2s - loss: 0.4330 - acc: 0.7960     \n",
      "Epoch 5/100\n",
      "8000/8000 [==============================] - 2s - loss: 0.4277 - acc: 0.7960     \n",
      "Epoch 6/100\n",
      "8000/8000 [==============================] - 2s - loss: 0.4264 - acc: 0.7981     \n",
      "Epoch 7/100\n",
      "8000/8000 [==============================] - 2s - loss: 0.4240 - acc: 0.8151     \n",
      "Epoch 8/100\n",
      "8000/8000 [==============================] - 2s - loss: 0.4262 - acc: 0.8234     \n",
      "Epoch 9/100\n",
      "8000/8000 [==============================] - 2s - loss: 0.4266 - acc: 0.8224     \n",
      "Epoch 10/100\n",
      "8000/8000 [==============================] - 2s - loss: 0.4279 - acc: 0.8259     \n",
      "Epoch 11/100\n",
      "8000/8000 [==============================] - 2s - loss: 0.4263 - acc: 0.8277     \n",
      "Epoch 12/100\n",
      "8000/8000 [==============================] - 2s - loss: 0.4282 - acc: 0.8281     \n",
      "Epoch 13/100\n",
      "8000/8000 [==============================] - 2s - loss: 0.4260 - acc: 0.8266     \n",
      "Epoch 14/100\n",
      "8000/8000 [==============================] - 2s - loss: 0.4246 - acc: 0.8254     \n",
      "Epoch 15/100\n",
      "8000/8000 [==============================] - 2s - loss: 0.4208 - acc: 0.8274     \n",
      "Epoch 16/100\n",
      "8000/8000 [==============================] - 2s - loss: 0.4251 - acc: 0.8292     \n",
      "Epoch 17/100\n",
      "8000/8000 [==============================] - 2s - loss: 0.4239 - acc: 0.8276     \n",
      "Epoch 18/100\n",
      "8000/8000 [==============================] - 2s - loss: 0.4264 - acc: 0.8262     \n",
      "Epoch 19/100\n",
      "8000/8000 [==============================] - 2s - loss: 0.4244 - acc: 0.8272     \n",
      "Epoch 20/100\n",
      "8000/8000 [==============================] - 2s - loss: 0.4227 - acc: 0.8277     \n",
      "Epoch 21/100\n",
      "8000/8000 [==============================] - 2s - loss: 0.4264 - acc: 0.8276     \n",
      "Epoch 22/100\n",
      "8000/8000 [==============================] - 2s - loss: 0.4231 - acc: 0.8301     \n",
      "Epoch 23/100\n",
      "8000/8000 [==============================] - 2s - loss: 0.4235 - acc: 0.8270     \n",
      "Epoch 24/100\n",
      "8000/8000 [==============================] - 2s - loss: 0.4248 - acc: 0.8287     \n",
      "Epoch 25/100\n",
      "8000/8000 [==============================] - 2s - loss: 0.4216 - acc: 0.8296     \n",
      "Epoch 26/100\n",
      "8000/8000 [==============================] - 2s - loss: 0.4240 - acc: 0.8284     \n",
      "Epoch 27/100\n",
      "8000/8000 [==============================] - 2s - loss: 0.4253 - acc: 0.8294     \n",
      "Epoch 28/100\n",
      "8000/8000 [==============================] - 2s - loss: 0.4233 - acc: 0.8322     \n",
      "Epoch 29/100\n",
      "8000/8000 [==============================] - 2s - loss: 0.4274 - acc: 0.8261     \n",
      "Epoch 30/100\n",
      "8000/8000 [==============================] - 2s - loss: 0.4224 - acc: 0.8287     \n",
      "Epoch 31/100\n",
      "8000/8000 [==============================] - 2s - loss: 0.4221 - acc: 0.8290     \n",
      "Epoch 32/100\n",
      "8000/8000 [==============================] - 2s - loss: 0.4230 - acc: 0.8282     \n",
      "Epoch 33/100\n",
      "8000/8000 [==============================] - 2s - loss: 0.4177 - acc: 0.8322     \n",
      "Epoch 34/100\n",
      "8000/8000 [==============================] - 2s - loss: 0.4237 - acc: 0.8291     \n",
      "Epoch 35/100\n",
      "8000/8000 [==============================] - 2s - loss: 0.4239 - acc: 0.8272     \n",
      "Epoch 36/100\n",
      "8000/8000 [==============================] - 2s - loss: 0.4238 - acc: 0.8281     \n",
      "Epoch 37/100\n",
      "8000/8000 [==============================] - 2s - loss: 0.4229 - acc: 0.8280     \n",
      "Epoch 38/100\n",
      "8000/8000 [==============================] - 2s - loss: 0.4177 - acc: 0.8307     \n",
      "Epoch 39/100\n",
      "8000/8000 [==============================] - 2s - loss: 0.4211 - acc: 0.8317     \n",
      "Epoch 40/100\n",
      "8000/8000 [==============================] - 3s - loss: 0.4201 - acc: 0.8307     \n",
      "Epoch 41/100\n",
      "8000/8000 [==============================] - 2s - loss: 0.4218 - acc: 0.8307     \n",
      "Epoch 42/100\n",
      "8000/8000 [==============================] - 3s - loss: 0.4238 - acc: 0.8296     \n",
      "Epoch 43/100\n",
      "8000/8000 [==============================] - 2s - loss: 0.4246 - acc: 0.8289     \n",
      "Epoch 44/100\n",
      "8000/8000 [==============================] - 3s - loss: 0.4223 - acc: 0.8294     \n",
      "Epoch 45/100\n",
      "8000/8000 [==============================] - 3s - loss: 0.4191 - acc: 0.8305     \n",
      "Epoch 46/100\n",
      "8000/8000 [==============================] - 3s - loss: 0.4217 - acc: 0.8292     \n",
      "Epoch 47/100\n",
      "8000/8000 [==============================] - 2s - loss: 0.4244 - acc: 0.8266     \n",
      "Epoch 48/100\n",
      "8000/8000 [==============================] - 2s - loss: 0.4253 - acc: 0.8304     \n",
      "Epoch 49/100\n",
      "8000/8000 [==============================] - 3s - loss: 0.4233 - acc: 0.8294     \n",
      "Epoch 50/100\n",
      "8000/8000 [==============================] - 2s - loss: 0.4241 - acc: 0.8276     \n",
      "Epoch 51/100\n",
      "8000/8000 [==============================] - 2s - loss: 0.4201 - acc: 0.8305     \n",
      "Epoch 52/100\n",
      "8000/8000 [==============================] - 2s - loss: 0.4220 - acc: 0.8314     \n",
      "Epoch 53/100\n",
      "8000/8000 [==============================] - 2s - loss: 0.4208 - acc: 0.8301     \n",
      "Epoch 54/100\n",
      "8000/8000 [==============================] - 3s - loss: 0.4201 - acc: 0.8324     \n",
      "Epoch 55/100\n",
      "8000/8000 [==============================] - 3s - loss: 0.4213 - acc: 0.8305     \n",
      "Epoch 56/100\n",
      "8000/8000 [==============================] - 3s - loss: 0.4220 - acc: 0.8315     \n",
      "Epoch 57/100\n",
      "8000/8000 [==============================] - 2s - loss: 0.4218 - acc: 0.8307     \n",
      "Epoch 58/100\n",
      "8000/8000 [==============================] - 2s - loss: 0.4203 - acc: 0.8312     \n",
      "Epoch 59/100\n",
      "8000/8000 [==============================] - 2s - loss: 0.4234 - acc: 0.8302     \n",
      "Epoch 60/100\n",
      "8000/8000 [==============================] - 2s - loss: 0.4225 - acc: 0.8311     \n",
      "Epoch 61/100\n",
      "8000/8000 [==============================] - 3s - loss: 0.4210 - acc: 0.8336     \n",
      "Epoch 62/100\n",
      "8000/8000 [==============================] - 3s - loss: 0.4243 - acc: 0.8312     \n",
      "Epoch 63/100\n",
      "8000/8000 [==============================] - 2s - loss: 0.4221 - acc: 0.8302     \n",
      "Epoch 64/100\n",
      "8000/8000 [==============================] - 2s - loss: 0.4241 - acc: 0.8286     \n",
      "Epoch 65/100\n",
      "8000/8000 [==============================] - 3s - loss: 0.4183 - acc: 0.8317     \n",
      "Epoch 66/100\n",
      "8000/8000 [==============================] - 3s - loss: 0.4212 - acc: 0.8317     \n",
      "Epoch 67/100\n",
      "8000/8000 [==============================] - 2s - loss: 0.4225 - acc: 0.8296     \n",
      "Epoch 68/100\n",
      "8000/8000 [==============================] - 2s - loss: 0.4256 - acc: 0.8285     \n",
      "Epoch 69/100\n",
      "8000/8000 [==============================] - 2s - loss: 0.4226 - acc: 0.8321     \n",
      "Epoch 70/100\n",
      "8000/8000 [==============================] - 2s - loss: 0.4212 - acc: 0.8301     \n",
      "Epoch 71/100\n",
      "8000/8000 [==============================] - 2s - loss: 0.4201 - acc: 0.8307     \n",
      "Epoch 72/100\n",
      "8000/8000 [==============================] - 2s - loss: 0.4224 - acc: 0.8321     \n",
      "Epoch 73/100\n",
      "8000/8000 [==============================] - 2s - loss: 0.4192 - acc: 0.8321     \n",
      "Epoch 74/100\n",
      "8000/8000 [==============================] - 2s - loss: 0.4217 - acc: 0.8286     \n",
      "Epoch 75/100\n",
      "8000/8000 [==============================] - 2s - loss: 0.4205 - acc: 0.8317     \n",
      "Epoch 76/100\n",
      "8000/8000 [==============================] - 2s - loss: 0.4251 - acc: 0.8306     \n",
      "Epoch 77/100\n",
      "8000/8000 [==============================] - 2s - loss: 0.4228 - acc: 0.8301     \n",
      "Epoch 78/100\n",
      "8000/8000 [==============================] - 2s - loss: 0.4222 - acc: 0.8315     \n",
      "Epoch 79/100\n",
      "8000/8000 [==============================] - 2s - loss: 0.4208 - acc: 0.8305     \n",
      "Epoch 80/100\n",
      "8000/8000 [==============================] - 2s - loss: 0.4207 - acc: 0.8326     \n",
      "Epoch 81/100\n",
      "8000/8000 [==============================] - 2s - loss: 0.4212 - acc: 0.8306     \n",
      "Epoch 82/100\n",
      "8000/8000 [==============================] - 2s - loss: 0.4225 - acc: 0.8296     \n",
      "Epoch 83/100\n",
      "8000/8000 [==============================] - 2s - loss: 0.4210 - acc: 0.8332     \n",
      "Epoch 84/100\n",
      "8000/8000 [==============================] - 2s - loss: 0.4214 - acc: 0.8322     \n",
      "Epoch 85/100\n",
      "8000/8000 [==============================] - 2s - loss: 0.4206 - acc: 0.8301     \n",
      "Epoch 86/100\n",
      "8000/8000 [==============================] - 2s - loss: 0.4193 - acc: 0.8337     \n",
      "Epoch 87/100\n"
     ]
    },
    {
     "name": "stdout",
     "output_type": "stream",
     "text": [
      "8000/8000 [==============================] - 2s - loss: 0.4182 - acc: 0.8332     \n",
      "Epoch 88/100\n",
      "8000/8000 [==============================] - 2s - loss: 0.4237 - acc: 0.8306     \n",
      "Epoch 89/100\n",
      "8000/8000 [==============================] - 2s - loss: 0.4194 - acc: 0.8319     \n",
      "Epoch 90/100\n",
      "8000/8000 [==============================] - 2s - loss: 0.4202 - acc: 0.8331     \n",
      "Epoch 91/100\n",
      "8000/8000 [==============================] - 2s - loss: 0.4218 - acc: 0.8315     \n",
      "Epoch 92/100\n",
      "8000/8000 [==============================] - 2s - loss: 0.4219 - acc: 0.8341     \n",
      "Epoch 93/100\n",
      "8000/8000 [==============================] - 2s - loss: 0.4225 - acc: 0.8286     \n",
      "Epoch 94/100\n",
      "8000/8000 [==============================] - 2s - loss: 0.4184 - acc: 0.8282     \n",
      "Epoch 95/100\n",
      "8000/8000 [==============================] - 2s - loss: 0.4204 - acc: 0.8295     \n",
      "Epoch 96/100\n",
      "8000/8000 [==============================] - 2s - loss: 0.4206 - acc: 0.8306     \n",
      "Epoch 97/100\n",
      "8000/8000 [==============================] - 2s - loss: 0.4219 - acc: 0.8325     \n",
      "Epoch 98/100\n",
      "8000/8000 [==============================] - 2s - loss: 0.4209 - acc: 0.8305     \n",
      "Epoch 99/100\n",
      "8000/8000 [==============================] - 2s - loss: 0.4194 - acc: 0.8304     \n",
      "Epoch 100/100\n",
      "8000/8000 [==============================] - 2s - loss: 0.4206 - acc: 0.8300     \n"
     ]
    }
   ],
   "source": [
    "#ANN \n",
    "import keras\n",
    "from keras.models import Sequential\n",
    "from keras.layers import Dense\n",
    "from keras.layers import Dropout\n",
    "classifier = Sequential()\n",
    "\n",
    "#Adding the input layer\n",
    "#Number of nodes in hiddedn layer = average of number of nodes in input layer and number of nodes in output layer\n",
    "#It is recommended to use RELU for hidden layers and Sigmoid (for two categories)/Softmax (for more than two categories) for output layer\n",
    "classifier.add(Dense(activation=\"relu\", input_dim=11, units=6, kernel_initializer=\"uniform\"))\n",
    "classifier.add(Dropout(rate=0.1))\n",
    "#Adding second hidden layer \n",
    "classifier.add(Dense(activation=\"relu\", units=6, kernel_initializer=\"uniform\"))\n",
    "#Adding Dropout to avoid overfitting\n",
    "classifier.add(Dropout(rate=0.1))\n",
    "#Adding output layer \n",
    "classifier.add(Dense(activation=\"sigmoid\", units=1, kernel_initializer=\"uniform\"))\n",
    "\n",
    "# Compiling the ANN\n",
    "# If dependent variable is binary then loss = binary_crossentropy else loss = categorical_crossentropy\n",
    "classifier.compile(optimizer='adam',loss='binary_crossentropy',metrics=['accuracy'])\n",
    "classifier.fit(X_train,y_train,batch_size=10,epochs=100)\n",
    "y_pred = classifier.predict(X_test)\n",
    "y_pred = (y_pred>0.5)\n"
   ]
  },
  {
   "cell_type": "code",
   "execution_count": 14,
   "metadata": {},
   "outputs": [
    {
     "name": "stdout",
     "output_type": "stream",
     "text": [
      "The customer will not leave\n"
     ]
    }
   ],
   "source": [
    "import numpy as np\n",
    "new_prediction = classifier.predict(sc.transform(np.array([[0.,0,600,1,40,3,60000,2,1,1,50000]])))\n",
    "new_prediction=(new_prediction>0.5)\n",
    "print(\"The customer will leave\" if new_prediction else\"The customer will not leave\")"
   ]
  },
  {
   "cell_type": "markdown",
   "metadata": {},
   "source": [
    "This is a simple ANN to determine if a customer will leave the bank or not."
   ]
  }
 ],
 "metadata": {
  "kernelspec": {
   "display_name": "Python 3",
   "language": "python",
   "name": "python3"
  },
  "language_info": {
   "codemirror_mode": {
    "name": "ipython",
    "version": 3
   },
   "file_extension": ".py",
   "mimetype": "text/x-python",
   "name": "python",
   "nbconvert_exporter": "python",
   "pygments_lexer": "ipython3",
   "version": "3.6.1"
  }
 },
 "nbformat": 4,
 "nbformat_minor": 2
}
